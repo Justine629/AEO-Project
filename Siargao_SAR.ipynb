{
 "cells": [
  {
   "cell_type": "code",
   "execution_count": 2,
   "id": "ce57f581-b6c4-48ab-8b36-1b05814b32bf",
   "metadata": {
    "tags": []
   },
   "outputs": [],
   "source": [
    "%matplotlib inline\n",
    "\n",
    "import datacube\n",
    "import numpy as np\n",
    "import xarray as xr \n",
    "import matplotlib.pyplot as plt\n",
    "from scipy.ndimage import uniform_filter\n",
    "\n",
    "import sys\n",
    "sys.path.insert(1, '../Tools/')\n",
    "from dea_tools.plotting import display_map"
   ]
  },
  {
   "cell_type": "code",
   "execution_count": 3,
   "id": "b42f01d6-b42a-4fc7-8ece-e2b9f4091f84",
   "metadata": {
    "tags": []
   },
   "outputs": [],
   "source": [
    "# Import extra libraries\n",
    "import pystac_client\n",
    "import planetary_computer\n",
    "\n",
    "import odc.stac\n",
    "import odc.geo.xr\n",
    "from odc.geo.geom import BoundingBox"
   ]
  },
  {
   "cell_type": "code",
   "execution_count": 4,
   "id": "23a76f20-997a-445a-bc8e-2de756af5104",
   "metadata": {
    "tags": []
   },
   "outputs": [],
   "source": [
    "dc = datacube.Datacube(app=\"Radar_water_detection\")"
   ]
  },
  {
   "cell_type": "code",
   "execution_count": 5,
   "id": "82372138-97a9-4d4c-b05d-9f095ea9bacb",
   "metadata": {
    "tags": []
   },
   "outputs": [],
   "source": [
    "# this is the same as the top of the notebook, \n",
    "# but we can change to other areas of interest\n",
    "latitude = (9.913, 9.764)\n",
    "longitude = (126.077, 126.172)\n",
    "time = (\"2021-10\", \"2022-02\") #Typhoon Odette 2021-12"
   ]
  },
  {
   "cell_type": "code",
   "execution_count": 6,
   "id": "2995dd64-e491-4dc5-b46f-2646439467e1",
   "metadata": {
    "tags": []
   },
   "outputs": [],
   "source": [
    "# Open a client pointing to the Microsoft Planetary Computer data catalogue\n",
    "catalog = pystac_client.Client.open(\n",
    "    \"https://planetarycomputer.microsoft.com/api/stac/v1\",\n",
    "    modifier=planetary_computer.sign_inplace,\n",
    ")"
   ]
  },
  {
   "cell_type": "code",
   "execution_count": 7,
   "id": "b9d50fa8-320d-40d4-9119-fe2e2e336f2d",
   "metadata": {
    "tags": []
   },
   "outputs": [
    {
     "name": "stdout",
     "output_type": "stream",
     "text": [
      "Found 22 STAC items\n"
     ]
    }
   ],
   "source": [
    "# Convert data-cube style queries into something readable by `pystac_client`\n",
    "bbox = BoundingBox.from_xy(longitude, latitude)\n",
    "time_range = \"/\".join(time)\n",
    "\n",
    "# Search for STAC items from \"esa-worldcover\" product\n",
    "search = catalog.search(\n",
    "    collections=\"sentinel-1-rtc\",\n",
    "    bbox=bbox,\n",
    "    datetime=time_range,\n",
    ")\n",
    "\n",
    "# Check how many items were returned\n",
    "items = search.item_collection()\n",
    "print(f\"Found {len(items)} STAC items\")"
   ]
  },
  {
   "cell_type": "code",
   "execution_count": 8,
   "id": "7ed0cc8c-d3f3-4af3-9c09-2ca9ade47d82",
   "metadata": {
    "tags": []
   },
   "outputs": [],
   "source": [
    "# Load sentinel-1 RTC data with odc-stac\n",
    "ds_s1 = odc.stac.load(\n",
    "    items,\n",
    "    bbox=bbox,\n",
    "    crs=\"EPSG:3327\",\n",
    "    resolution=20,\n",
    ")\n",
    "\n",
    "# Inspect outputs\n",
    "# ds_s1"
   ]
  },
  {
   "cell_type": "code",
   "execution_count": 9,
   "id": "470b6fa7-b04b-41b6-af4e-05009dad5fe5",
   "metadata": {
    "tags": []
   },
   "outputs": [],
   "source": [
    "def dB_scale(data): \n",
    "    '''Scales a xarray.DataArray with linear DN to a dB scale.'''\n",
    "    # Explicitly set negative data to nan to avoid log of negative number\n",
    "    negative_free_data = data.where(data >= 0, np.nan)\n",
    "    return 10 * np.log10(negative_free_data)"
   ]
  },
  {
   "cell_type": "code",
   "execution_count": 10,
   "id": "33e26e68-741b-46b0-92f7-d44f5c8596d0",
   "metadata": {
    "tags": []
   },
   "outputs": [],
   "source": [
    "# Scale to plot data in decibels\n",
    "ds_s1[\"vh_dB\"] = dB_scale(ds_s1.vh)\n",
    "\n",
    "# Plot all VH observations for the year\n",
    "# ds_s1.vh_dB.plot(cmap=\"Greys_r\", robust=True, col=\"time\", col_wrap=5)\n",
    "# plt.show()"
   ]
  },
  {
   "cell_type": "code",
   "execution_count": 11,
   "id": "98f7e950-7128-4d5d-a7fe-677d09aed528",
   "metadata": {
    "tags": []
   },
   "outputs": [],
   "source": [
    "# Plot the average of all VH observations\n",
    "mean_vh_dB = ds_s1.vh_dB.mean(dim=\"time\")\n",
    "\n",
    "# fig = plt.figure(figsize=(7, 9))\n",
    "# mean_vh_dB.plot(cmap=\"Greys_r\", robust=True)\n",
    "# plt.title(\"Average VH\")\n",
    "# plt.show()"
   ]
  },
  {
   "cell_type": "code",
   "execution_count": 12,
   "id": "7532eb71-b8fa-4c22-a361-b89552fad538",
   "metadata": {
    "tags": []
   },
   "outputs": [],
   "source": [
    "# Scale to plot data in decibels\n",
    "ds_s1[\"vv_dB\"] = dB_scale(ds_s1.vv)\n",
    "\n",
    "# Plot all VV observations for the year\n",
    "# ds_s1.vv_dB.plot(cmap=\"Greys_r\", robust=True, col=\"time\", col_wrap=5)\n",
    "# plt.show()"
   ]
  },
  {
   "cell_type": "code",
   "execution_count": 13,
   "id": "da98ef90-ecab-42f8-9de8-6fa371015b4a",
   "metadata": {
    "tags": []
   },
   "outputs": [],
   "source": [
    "# Plot the average of all VV observations\n",
    "mean_vv_dB = ds_s1.vv_dB.mean(dim=\"time\")\n",
    "\n",
    "# fig = plt.figure(figsize=(7, 9))\n",
    "# mean_vv_dB.plot(cmap=\"Greys_r\", robust=True)\n",
    "# plt.title(\"Average VV\")\n",
    "# plt.show()"
   ]
  },
  {
   "cell_type": "code",
   "execution_count": 14,
   "id": "9f898643-a349-4395-aacd-204ce867dc0b",
   "metadata": {
    "tags": []
   },
   "outputs": [],
   "source": [
    "# Adapted from https://stackoverflow.com/questions/39785970/speckle-lee-filter-in-python\n",
    "def lee_filter(img, size):\n",
    "    \"\"\"\n",
    "    Applies the Lee filter to reduce speckle noise in an image.\n",
    "\n",
    "    Parameters:\n",
    "    img (ndarray): Input image to be filtered.\n",
    "    size (int): Size of the uniform filter window.\n",
    "\n",
    "    Returns:\n",
    "    ndarray: The filtered image.\n",
    "    \"\"\"\n",
    "    img_mean = uniform_filter(img, size)\n",
    "    img_sqr_mean = uniform_filter(img**2, size)\n",
    "    img_variance = img_sqr_mean - img_mean**2\n",
    "\n",
    "    overall_variance = np.var(img)\n",
    "\n",
    "    img_weights = img_variance / (img_variance + overall_variance)\n",
    "    img_output = img_mean + img_weights * (img - img_mean)\n",
    "    return img_output"
   ]
  },
  {
   "cell_type": "code",
   "execution_count": 15,
   "id": "041f5684-ad46-4211-adea-3740f7bff81d",
   "metadata": {
    "tags": []
   },
   "outputs": [
    {
     "name": "stdout",
     "output_type": "stream",
     "text": [
      "('time', 'y', 'x')\n"
     ]
    }
   ],
   "source": [
    "print(ds_s1.vv.dims)"
   ]
  },
  {
   "cell_type": "code",
   "execution_count": 16,
   "id": "29882dcd-976a-4771-b97c-9e7c889df2a9",
   "metadata": {
    "tags": []
   },
   "outputs": [],
   "source": [
    "# Define a function to apply the Lee filter to a DataArray\n",
    "def apply_lee_filter(data_array, size=7):\n",
    "    \"\"\"\n",
    "    Applies the Lee filter to the provided DataArray.\n",
    "\n",
    "    Parameters:\n",
    "    data_array (xarray.DataArray): The data array to be filtered.\n",
    "    size (int): Size of the uniform filter window. Default is 7.\n",
    "\n",
    "    Returns:\n",
    "    xarray.DataArray: The filtered data array.\n",
    "    \"\"\"\n",
    "    data_array_filled = data_array.fillna(0)  # Use the DataArray's fillna method\n",
    "\n",
    "    filtered_data = xr.apply_ufunc(\n",
    "        lee_filter, data_array_filled,\n",
    "        kwargs={\"size\": size},\n",
    "        input_core_dims=[[\"x\", \"y\"]],  # Referencing dimension names\n",
    "        output_core_dims=[[\"x\", \"y\"]],\n",
    "        dask_gufunc_kwargs={\"allow_rechunk\": True},\n",
    "        vectorize=True,\n",
    "        dask=\"parallelized\",\n",
    "        output_dtypes=[data_array.dtype]\n",
    "    )\n",
    "    return filtered_data"
   ]
  },
  {
   "cell_type": "code",
   "execution_count": 17,
   "id": "200e9c0b-dfb0-48c6-b0f5-8bf10566d6d2",
   "metadata": {
    "tags": []
   },
   "outputs": [],
   "source": [
    "# Apply the Lee filter to both VV and VH data\n",
    "ds_s1[\"filtered_vv\"] = apply_lee_filter(ds_s1.vv, size = 7)\n",
    "ds_s1[\"filtered_vh\"] = apply_lee_filter(ds_s1.vh, size = 7)"
   ]
  },
  {
   "cell_type": "code",
   "execution_count": 18,
   "id": "f9a3e618-a01d-4f9f-bc7a-3dab84cdbf98",
   "metadata": {},
   "outputs": [],
   "source": [
    "# Scale to plot data in decibels\n",
    "ds_s1[\"filtered_vh_dB\"] = dB_scale(ds_s1.filtered_vh)\n",
    "\n",
    "# Plot all filtered VH observations for the year\n",
    "# ds_s1.filtered_vh_dB.plot(cmap=\"Greys_r\", robust=True, col=\"time\", col_wrap=5)\n",
    "# plt.show()"
   ]
  },
  {
   "cell_type": "code",
   "execution_count": 19,
   "id": "f81c6d78-1f83-4641-8fbe-420615651282",
   "metadata": {
    "tags": []
   },
   "outputs": [],
   "source": [
    "# Plot the average of all filtered VH observations\n",
    "mean_filtered_vh_dB = ds_s1.filtered_vh_dB.mean(dim=\"time\")\n",
    "\n",
    "# fig = plt.figure(figsize=(7, 9))\n",
    "# mean_filtered_vh_dB.plot(cmap=\"Greys_r\", robust=True)\n",
    "# plt.title(\"Average filtered VH\")\n",
    "# plt.show()"
   ]
  },
  {
   "cell_type": "code",
   "execution_count": null,
   "id": "8c420e4b-0b3d-455c-8174-5ea52f98b7fe",
   "metadata": {
    "tags": []
   },
   "outputs": [],
   "source": [
    "# Scale to plot data in decibels\n",
    "ds_s1[\"filtered_vv_dB\"] = dB_scale(ds_s1.filtered_vv)\n",
    "\n",
    "# Plot all filtered VV observations for the year\n",
    "# ds_s1.filtered_vv_dB.plot(cmap=\"Greys_r\", robust=True, col=\"time\", col_wrap=5)\n",
    "# plt.show()"
   ]
  },
  {
   "cell_type": "code",
   "execution_count": null,
   "id": "3aadf56f-1150-4a97-865e-7190f83f21b6",
   "metadata": {
    "tags": []
   },
   "outputs": [],
   "source": [
    "# Plot the average of all filtered VV observations\n",
    "mean_filtered_vv_dB = ds_s1.filtered_vv_dB.mean(dim=\"time\")\n",
    "\n",
    "# fig = plt.figure(figsize=(7, 9))\n",
    "# mean_filtered_vv_dB.plot(cmap=\"Greys_r\", robust=True)\n",
    "# plt.title(\"Average filtered VV\")\n",
    "# plt.show()"
   ]
  },
  {
   "cell_type": "code",
   "execution_count": null,
   "id": "d0da9d8c-bea5-4e47-839b-9cf5f8ae2578",
   "metadata": {
    "tags": []
   },
   "outputs": [],
   "source": [
    "fig = plt.figure(figsize=(15, 3))\n",
    "ds_s1.filtered_vh_dB.plot.hist(bins=1000, label=\"VH filtered\")\n",
    "ds_s1.vh_dB.plot.hist(bins=1000, label=\"VH\", alpha=0.5)\n",
    "plt.legend()\n",
    "plt.xlabel(\"VH (dB)\")\n",
    "plt.title(\"Comparison of filtered VH bands to original\")\n",
    "plt.show()"
   ]
  },
  {
   "cell_type": "code",
   "execution_count": null,
   "id": "c84dd867-fc73-4938-b20f-d244e7f2bc18",
   "metadata": {
    "tags": []
   },
   "outputs": [],
   "source": [
    "fig = plt.figure(figsize=(15, 3))\n",
    "ds_s1.filtered_vv_dB.plot.hist(bins=1000, label=\"VV filtered\")\n",
    "ds_s1.vv_dB.plot.hist(bins=1000, label=\"VV\", alpha=0.5)\n",
    "plt.legend()\n",
    "plt.xlabel(\"VV (dB)\")\n",
    "plt.title(\"Comparison of filtered VV bands to original\")\n",
    "plt.show()"
   ]
  },
  {
   "cell_type": "code",
   "execution_count": null,
   "id": "eace439c-af5a-47ba-816c-b30eea7bffda",
   "metadata": {
    "tags": []
   },
   "outputs": [],
   "source": [
    "threshold = -20.0"
   ]
  },
  {
   "cell_type": "code",
   "execution_count": null,
   "id": "a6c4757e-65b9-4914-97d4-c0df45fd2048",
   "metadata": {
    "tags": []
   },
   "outputs": [],
   "source": [
    "fig = plt.figure(figsize=(15, 3))\n",
    "plt.axvline(x=threshold, label=f\"Threshold at {threshold}\", color=\"red\")\n",
    "ds_s1.filtered_vh_dB.plot.hist(bins=1000, label=\"VH filtered\")\n",
    "ds_s1.vh_dB.plot.hist(bins=1000, label=\"VH\", alpha=0.5)\n",
    "plt.legend()\n",
    "plt.xlabel(\"VH (dB)\")\n",
    "plt.title(\"Histogram Comparison of filtered VH bands to original\")\n",
    "plt.show()"
   ]
  },
  {
   "cell_type": "code",
   "execution_count": null,
   "id": "fd2a0fc3-7436-4ece-a042-8ed734d37cfe",
   "metadata": {
    "tags": []
   },
   "outputs": [],
   "source": [
    "fig, ax = plt.subplots(figsize=(15, 3))\n",
    "ds_s1.filtered_vh_dB.plot.hist(bins=1000, label=\"VH filtered\")\n",
    "ax.axvspan(xmin=-40.0, xmax=threshold, alpha=0.25, color=\"green\", label=\"Water\")\n",
    "ax.axvspan(xmin=threshold,\n",
    "           xmax=-0.5,\n",
    "           alpha=0.25,\n",
    "           color=\"red\",\n",
    "           label=\"Not Water\")\n",
    "plt.legend()\n",
    "plt.xlabel(\"VH (dB)\")\n",
    "plt.title(\"Effect of the classifier\")\n",
    "plt.show()"
   ]
  },
  {
   "cell_type": "code",
   "execution_count": null,
   "id": "078660ce-7567-48a4-af03-33ede3afc654",
   "metadata": {
    "tags": []
   },
   "outputs": [],
   "source": [
    "def s1_water_classifier(ds, threshold=-20.0):\n",
    "    assert \"vh\" in ds.data_vars, \"This classifier is expecting a variable named `vh` expressed in DN, not DB values\"\n",
    "    filtered = apply_lee_filter(ds_s1.vh, size = 7)\n",
    "    water_data_array = dB_scale(filtered) < threshold\n",
    "    return water_data_array.to_dataset(name=\"s1_water\")"
   ]
  },
  {
   "cell_type": "code",
   "execution_count": null,
   "id": "4b6a075f-912c-4acc-9d0b-127481d7f089",
   "metadata": {
    "tags": []
   },
   "outputs": [],
   "source": [
    "ds_s1[\"water\"] = s1_water_classifier(ds_s1).s1_water"
   ]
  },
  {
   "cell_type": "code",
   "execution_count": null,
   "id": "62358b99-f93d-4b18-99c7-608dd444bac4",
   "metadata": {
    "tags": []
   },
   "outputs": [],
   "source": [
    "ds_s1.water"
   ]
  },
  {
   "cell_type": "code",
   "execution_count": null,
   "id": "d315720d-67b8-4f52-b14b-5aeff167fbfc",
   "metadata": {
    "tags": []
   },
   "outputs": [],
   "source": [
    "# Plot the mean of each classified pixel value\n",
    "plt.figure(figsize=(15, 12))\n",
    "ds_s1.water.mean(dim=\"time\").plot(cmap=\"RdBu\")\n",
    "plt.title(\"Average classified pixel value\")\n",
    "plt.show()"
   ]
  },
  {
   "cell_type": "code",
   "execution_count": null,
   "id": "219f8dec-d9a7-47f4-8869-409f0dc4773c",
   "metadata": {
    "tags": []
   },
   "outputs": [],
   "source": [
    "# Plot the standard deviation of each classified pixel value\n",
    "plt.figure(figsize=(15, 12))\n",
    "ds_s1.water.std(dim=\"time\").plot(cmap=\"viridis\")\n",
    "plt.title(\"Standard deviation of classified pixel values\")\n",
    "plt.show()"
   ]
  },
  {
   "cell_type": "code",
   "execution_count": null,
   "id": "c72eba2e-2c6e-468a-8f35-98619d99c569",
   "metadata": {
    "tags": []
   },
   "outputs": [],
   "source": [
    "start_time_index = 0\n",
    "end_time_index = ds_s1.water.sizes[\"time\"] - 1"
   ]
  },
  {
   "cell_type": "code",
   "execution_count": null,
   "id": "ace9e22b-2e77-4d6d-affa-661b347882d8",
   "metadata": {
    "tags": []
   },
   "outputs": [],
   "source": [
    "change = np.subtract(ds_s1.water.isel(time=start_time_index),\n",
    "                     ds_s1.water.isel(time=end_time_index),\n",
    "                     dtype=np.float32)\n",
    "\n",
    "# Set all '0' entries to NaN, which prevents them from displaying in the plot.\n",
    "change = change.where(change != 0)\n",
    "ds_s1[\"change\"] = change"
   ]
  },
  {
   "cell_type": "code",
   "execution_count": null,
   "id": "16356aa6-2cb0-4d31-99fb-1a9200c65873",
   "metadata": {
    "tags": []
   },
   "outputs": [],
   "source": [
    "plt.figure(figsize=(15, 12))\n",
    "ds_s1.filtered_vh_dB.mean(dim=\"time\").plot(cmap=\"Blues\")\n",
    "ds_s1.change.plot(cmap=\"RdBu\", levels=2)\n",
    "plt.title(f\"Change in pixel value between time={start_time_index} and time={end_time_index}\")\n",
    "plt.show()"
   ]
  },
  {
   "cell_type": "code",
   "execution_count": null,
   "id": "a906ff06-12b7-400a-bba2-e70f6da71557",
   "metadata": {},
   "outputs": [],
   "source": []
  },
  {
   "cell_type": "code",
   "execution_count": null,
   "id": "6a0ecb69-8f5b-4e2c-8e77-a8d225ba5dcd",
   "metadata": {},
   "outputs": [],
   "source": []
  }
 ],
 "metadata": {
  "kernelspec": {
   "display_name": "Python 3 (ipykernel)",
   "language": "python",
   "name": "python3"
  },
  "language_info": {
   "codemirror_mode": {
    "name": "ipython",
    "version": 3
   },
   "file_extension": ".py",
   "mimetype": "text/x-python",
   "name": "python",
   "nbconvert_exporter": "python",
   "pygments_lexer": "ipython3",
   "version": "3.10.13"
  }
 },
 "nbformat": 4,
 "nbformat_minor": 5
}
